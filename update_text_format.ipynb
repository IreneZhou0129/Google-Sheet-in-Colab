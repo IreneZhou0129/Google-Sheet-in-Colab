{
  "nbformat": 4,
  "nbformat_minor": 0,
  "metadata": {
    "colab": {
      "provenance": [],
      "authorship_tag": "ABX9TyMWOE6yZUIS556PVTrktbB/",
      "include_colab_link": true
    },
    "kernelspec": {
      "name": "python3",
      "display_name": "Python 3"
    },
    "language_info": {
      "name": "python"
    }
  },
  "cells": [
    {
      "cell_type": "markdown",
      "metadata": {
        "id": "view-in-github",
        "colab_type": "text"
      },
      "source": [
        "<a href=\"https://colab.research.google.com/github/IreneZhou0129/Google-Sheet-in-Colab/blob/main/update_text_format.ipynb\" target=\"_parent\"><img src=\"https://colab.research.google.com/assets/colab-badge.svg\" alt=\"Open In Colab\"/></a>"
      ]
    },
    {
      "cell_type": "code",
      "source": [
        "import string\n",
        "import pandas as pd\n",
        "from google.colab import auth\n",
        "auth.authenticate_user()\n",
        "\n",
        "import gspread\n",
        "from google.auth import default\n",
        "\n",
        "import concurrent.futures\n",
        "from gspread_dataframe import set_with_dataframe as dset\n",
        "from google.oauth2.service_account import Credentials"
      ],
      "metadata": {
        "id": "U1k9Oc-Fnsu7"
      },
      "execution_count": null,
      "outputs": []
    },
    {
      "cell_type": "code",
      "source": [
        "creds, _ = default()\n",
        "gc = gspread.authorize(creds)\n",
        "\n",
        "def read_gsheet(filename,sheet='Sheet1'):\n",
        "  wb = gc.open(filename)\n",
        "  sheet = wb.worksheet(sheet)\n",
        "\n",
        "  records_data = sheet.get_all_records()\n",
        "  df = pd.DataFrame.from_records(records_data)\n",
        "  return df"
      ],
      "metadata": {
        "id": "jxj-yfQDnrlI"
      },
      "execution_count": null,
      "outputs": []
    },
    {
      "cell_type": "code",
      "execution_count": 1,
      "metadata": {
        "colab": {
          "base_uri": "https://localhost:8080/"
        },
        "id": "iwmFCWThnAAC",
        "outputId": "614c74ac-f60a-4a6d-fdee-094f2e178891"
      },
      "outputs": [
        {
          "output_type": "stream",
          "name": "stdout",
          "text": [
            "{'anchored', 'by', 'are', 'regions'}\n",
            "[[147, 154], [164, 165], [233, 235], [90, 96]]\n"
          ]
        }
      ],
      "source": [
        "def remove_articles(sentence):\n",
        "    # Define the articles to be removed\n",
        "    articles = {'a', 'an', 'the'}\n",
        "\n",
        "    # Split the sentence into words, filter out the articles, and rejoin the words\n",
        "    filtered_sentence = ' '.join(word for word in sentence.split() if word.lower() not in articles)\n",
        "\n",
        "    return filtered_sentence\n",
        "\n",
        "# Function to remove punctuation from a sentence and return the cleaned sentence\n",
        "def remove_punctuation(sentence):\n",
        "    return sentence.translate(str.maketrans('', '', string.punctuation))\n",
        "\n",
        "def find_common_words_index(s1,s2):\n",
        "  # Remove punctuation from s for accurate comparison\n",
        "  s1_cleaned = remove_punctuation(remove_articles(s1))\n",
        "  s2_cleaned = remove_punctuation(remove_articles(s2))\n",
        "\n",
        "  # Split the cleaned s into words\n",
        "  words_s1_cleaned = s1_cleaned.split()\n",
        "  words_s2_cleaned = s2_cleaned.split()\n",
        "\n",
        "  # Finding common words again after removing punctuation\n",
        "  common_words_cleaned = set(words_s1_cleaned) & set(words_s2_cleaned)\n",
        "  print(common_words_cleaned)\n",
        "\n",
        "  # Initialize an empty list to store the index range for the cleaned string comparison\n",
        "  index_ranges_cleaned = []\n",
        "\n",
        "  # Find the index range of each common word in the original s1 string (to include punctuation in the index if needed)\n",
        "  for word in common_words_cleaned:\n",
        "      start_index = s1.find(word)\n",
        "      end_index = start_index + len(word) - 1  # Adjusting for the range to be inclusive\n",
        "      index_ranges_cleaned.append([start_index, end_index])\n",
        "  print(index_ranges_cleaned)\n",
        "  return index_ranges_cleaned\n",
        "\n",
        "s1 = \"Southern California is divided culturally, politically, and economically into distinctive regions, each containing its own culture and atmosphere, anchored usually by a city with both national and sometimes global recognition, which are often the hub of economic activity for its respective region and being home to many tourist destinations. Each region is further divided into many culturally distinct areas but as a whole combine to create the southern California atmosphere.\"\n",
        "s2 = \"What are regions anchored by that are recognized globally?\"\n",
        "res = find_common_words_index(s1,s2)\n"
      ]
    },
    {
      "cell_type": "markdown",
      "source": [
        "Docs:\n",
        "\n",
        "\n",
        "*  https://developers.google.com/sheets/api/reference/rest/v4/spreadsheets/cells#TextFormatRun\n",
        "*   https://developers.google.com/sheets/api/reference/rest/v4/spreadsheets/other#GridRange\n",
        "\n"
      ],
      "metadata": {
        "id": "ZmW_cpWuoP8d"
      }
    },
    {
      "cell_type": "code",
      "source": [
        "# Specify the filename of the Google Sheet and the name of the sheet within the file.\n",
        "filename = 'FILENAME'\n",
        "sheetName = 'SHEETNAME'\n",
        "\n",
        "# Open the spreadsheet using the gspread library and get the specific sheet's ID.\n",
        "# You can also find Sheet ID in url: https://docs.google.com/spreadsheets/d/xxxxxxxxx/edit#gid=00000000\n",
        "spreadsheet = gc.open(filename)\n",
        "sheetId = spreadsheet.worksheet(sheetName).id\n",
        "\n",
        "# Read the data from the specified Google Sheet into a DataFrame and convert all data to string type.\n",
        "df = read_gsheet(filename,sheet=sheetName)\n",
        "df = df.astype(str)\n",
        "\n",
        "# Iterate through each row of the DataFrame.\n",
        "for i,row in df.iterrows():\n",
        "  # Extract the 'question' and 'paragraph' column values for the current row.\n",
        "  question = row.question\n",
        "  paragraph = row.paragraph\n",
        "\n",
        "  # Find indexes of common words between the question and the paragraph.\n",
        "  find_indexes = find_common_words_index(paragraph, question) # i.e., [[90, 96], [164, 165], [147, 154], [233, 235]]\n",
        "\n",
        "  # Define the range in the sheet where the updates will be applied.\n",
        "  gridRange = {\"sheetId\": sheetId,\n",
        "                \"startRowIndex\": i+1, # NOTE: Update these index numbers as needed\n",
        "                \"endRowIndex\": i+2,\n",
        "                \"startColumnIndex\": 6, # Column G in Google Sheet\n",
        "                \"endColumnIndex\": 7}\n",
        "\n",
        "  # Initial request to set the paragraph text in the specified cell.\n",
        "  reqs = [\n",
        "        {\"updateCells\": {\n",
        "        \"range\": gridRange,\n",
        "        \"rows\": [{\"values\": [{\"userEnteredValue\": {\"stringValue\": paragraph}}]}],\n",
        "        \"fields\": \"userEnteredValue\"\n",
        "    }}]\n",
        "\n",
        "  # Prepare formatting requests for bold text based on found indexes.\n",
        "  req_idx = []\n",
        "  for idx in find_indexes:\n",
        "    # Create formatting specifications for the start and end of each bold segment.\n",
        "    curr_start = {\"format\": {\"bold\": True}, \"startIndex\": idx[0]}\n",
        "    curr_end = {\"format\": {\"bold\": False}, \"startIndex\": idx[1]+1}\n",
        "    req_idx.append(curr_start)\n",
        "    req_idx.append(curr_end)\n",
        "\n",
        "  # Add a request for applying text formatting to the list of requests.\n",
        "  reqs.append({\"updateCells\": {\n",
        "          \"range\": gridRange,\n",
        "          \"rows\": [{\"values\": [{\"textFormatRuns\": req_idx\n",
        "                                }]}],\n",
        "          \"fields\": \"textFormatRuns.format.bold\"\n",
        "      }})\n",
        "\n",
        "  # Execute the batch update on the spreadsheet with the prepared requests.\n",
        "  res = spreadsheet.batch_update({\"requests\": reqs})"
      ],
      "metadata": {
        "id": "7eqIkoTQnVwA"
      },
      "execution_count": null,
      "outputs": []
    }
  ]
}